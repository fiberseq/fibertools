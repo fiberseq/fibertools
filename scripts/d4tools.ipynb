{
 "cells": [
  {
   "cell_type": "code",
   "execution_count": 407,
   "id": "5a92353a-dbef-428e-8dcb-ed9f542dbc75",
   "metadata": {},
   "outputs": [],
   "source": [
    "import pyd4 \n",
    "import fibertools as ft\n",
    "import polars as pl\n",
    "import pandas as pd\n",
    "import io\n",
    "import tempfile\n",
    "import numpy as np\n",
    "import subprocess\n",
    "from numba import njit\n",
    "import logging\n",
    "log_format = \"[%(levelname)s][Time elapsed (ms) %(relativeCreated)d]: %(message)s\"\n",
    "#log_level = logging.DEBUG if args.verbose else logging.WARNING\n",
    "log_level = logging.DEBUG\n",
    "logging.basicConfig(format=log_format, level=log_level)\n",
    "\n",
    "@njit\n",
    "def chrom_bg(sts, ens, chrom_len):\n",
    "    chrom = np.zeros(chrom_len, dtype=np.uint16)\n",
    "    to_add = np.uint64(1)\n",
    "    for st, en in zip(sts, ens):\n",
    "        chrom[st:en] += to_add\n",
    "    return chrom\n",
    "\n",
    "def df_to_bg(df, genome):\n",
    "    bg_data = {}\n",
    "    for g in df.groupby(\"ct\"):\n",
    "        chrom = g.ct[0]\n",
    "        bg_data[chrom] = chrom_bg(g.st.to_numpy(), g.en.to_numpy(), genome[chrom])\n",
    "    return bg_data\n",
    "\n",
    "def make_d4_from_df(df, genome, d4_f):\n",
    "    chroms = list(zip(genome.keys(), genome.values()))\n",
    "    writer = pyd4.D4Builder(d4_f) \\\n",
    "        .add_chroms(chroms) \\\n",
    "        .for_sparse_data() \\\n",
    "        .get_writer()\n",
    "    \n",
    "    for chrom, data in df_to_bg(df, genome).items():\n",
    "        writer.write_np_array(chrom, 0, data)\n",
    "    writer.close()\n",
    "\n",
    "    \n",
    "def make_temp_d4_from_df(df, genome):\n",
    "    temp = tempfile.NamedTemporaryFile(suffix='.d4')\n",
    "    make_d4_from_df(df, genome, temp.name)\n",
    "    return temp \n",
    "\n",
    "def make_union_d4_from_df(df, genome, group_col, d4_f):\n",
    "    out_files = []\n",
    "    for idx, g in enumerate(df.groupby([group_col])):\n",
    "        g_n = g[group_col][0]\n",
    "        out_files.append((g_n, make_temp_d4_from_df(g, genome)))\n",
    "        logging.debug(f\"Made d4 for group: {g_n}\")\n",
    "            \n",
    "    merged = pyd4.D4Merger(d4_f)\n",
    "    for tag, d4 in sorted(out_files):\n",
    "        merged.add_tagged_track(str(tag), d4.name)\n",
    "    merged.merge()\n",
    "    # close files\n",
    "    [d4.close() for _tag, d4 in out_files]\n"
   ]
  },
  {
   "cell_type": "code",
   "execution_count": 403,
   "id": "76f576a6-6336-4e79-be7d-2d144415ba1f",
   "metadata": {},
   "outputs": [
    {
     "name": "stdout",
     "output_type": "stream",
     "text": [
      "CPU times: user 2min 50s, sys: 1min 44s, total: 4min 34s\n",
      "Wall time: 2min 53s\n"
     ]
    }
   ],
   "source": [
    "%%time\n",
    "all_df = ft.read_in_bed_file(\"../data/acc.model.results.bed.gz\", n_rows=200_000_000)"
   ]
  },
  {
   "cell_type": "code",
   "execution_count": 408,
   "id": "71994dc3-38fd-4292-b782-ef6e8b3b36ac",
   "metadata": {},
   "outputs": [
    {
     "data": {
      "text/plain": [
       "((186972218, 11),\n",
       " (100, 11),\n",
       " shape: (6, 2)\n",
       " ┌───────┬──────────┐\n",
       " │ ct    ┆ counts   │\n",
       " │ ---   ┆ ---      │\n",
       " │ str   ┆ u32      │\n",
       " ╞═══════╪══════════╡\n",
       " │ chr1  ┆ 55902581 │\n",
       " ├╌╌╌╌╌╌╌┼╌╌╌╌╌╌╌╌╌╌┤\n",
       " │ chr10 ┆ 31733134 │\n",
       " ├╌╌╌╌╌╌╌┼╌╌╌╌╌╌╌╌╌╌┤\n",
       " │ chr11 ┆ 31537782 │\n",
       " ├╌╌╌╌╌╌╌┼╌╌╌╌╌╌╌╌╌╌┤\n",
       " │ chr12 ┆ 31251670 │\n",
       " ├╌╌╌╌╌╌╌┼╌╌╌╌╌╌╌╌╌╌┤\n",
       " │ chr13 ┆ 23188892 │\n",
       " ├╌╌╌╌╌╌╌┼╌╌╌╌╌╌╌╌╌╌┤\n",
       " │ chr14 ┆ 13358159 │\n",
       " └───────┴──────────┘)"
      ]
     },
     "execution_count": 408,
     "metadata": {},
     "output_type": "execute_result"
    }
   ],
   "source": [
    "all_df = all_df.with_column(\n",
    "    pl.when(pl.col(\"column_9\") == \"230,230,230\").then(101).otherwise(pl.col(\"column_5\")).alias(\"score\")\n",
    ")\n",
    "df = all_df.head(100).clone()\n",
    "all_df.shape, df.shape, all_df.ct.value_counts()"
   ]
  },
  {
   "cell_type": "code",
   "execution_count": 409,
   "id": "101f0f65-c5b2-4f77-a9b9-a7cbc94bde7d",
   "metadata": {},
   "outputs": [],
   "source": [
    "genome_file = \"../data/hg38.chrom.sizes\"\n",
    "genome = { line.split()[0]:int(line.split()[1])  for line in open(genome_file) }"
   ]
  },
  {
   "cell_type": "code",
   "execution_count": 410,
   "id": "cfd4268b-734b-424b-8619-a065e1421933",
   "metadata": {},
   "outputs": [
    {
     "name": "stdout",
     "output_type": "stream",
     "text": [
      "CPU times: user 5.3 s, sys: 868 ms, total: 6.16 s\n",
      "Wall time: 2.08 s\n"
     ]
    }
   ],
   "source": [
    "%%time\n",
    "make_d4_from_df(df, genome, \"tmp.d4\")\n",
    "#make_temp_d4_from_df(df, genome)"
   ]
  },
  {
   "cell_type": "code",
   "execution_count": 411,
   "id": "bc7b59a4-64cd-49f6-99b1-6c846c8ff9d7",
   "metadata": {},
   "outputs": [
    {
     "name": "stderr",
     "output_type": "stream",
     "text": [
      "[DEBUG][Time elapsed (ms) 17124614]: Made d4 for group: 16\n",
      "[DEBUG][Time elapsed (ms) 17127271]: Made d4 for group: 0\n",
      "[DEBUG][Time elapsed (ms) 17130347]: Made d4 for group: 15\n",
      "[DEBUG][Time elapsed (ms) 17136021]: Made d4 for group: 14\n",
      "[DEBUG][Time elapsed (ms) 17140163]: Made d4 for group: 13\n",
      "[DEBUG][Time elapsed (ms) 17143751]: Made d4 for group: 12\n",
      "[DEBUG][Time elapsed (ms) 17147763]: Made d4 for group: 11\n",
      "[DEBUG][Time elapsed (ms) 17151244]: Made d4 for group: 10\n",
      "[DEBUG][Time elapsed (ms) 17155961]: Made d4 for group: 9\n",
      "[DEBUG][Time elapsed (ms) 17160991]: Made d4 for group: 25\n",
      "[DEBUG][Time elapsed (ms) 17168124]: Made d4 for group: 24\n",
      "[DEBUG][Time elapsed (ms) 17173609]: Made d4 for group: 8\n",
      "[DEBUG][Time elapsed (ms) 17179656]: Made d4 for group: 23\n",
      "[DEBUG][Time elapsed (ms) 17183682]: Made d4 for group: 7\n",
      "[DEBUG][Time elapsed (ms) 17187716]: Made d4 for group: 6\n",
      "[DEBUG][Time elapsed (ms) 17192418]: Made d4 for group: 22\n",
      "[DEBUG][Time elapsed (ms) 17264207]: Made d4 for group: 101\n",
      "[DEBUG][Time elapsed (ms) 17271074]: Made d4 for group: 21\n",
      "[DEBUG][Time elapsed (ms) 17273568]: Made d4 for group: 5\n",
      "[DEBUG][Time elapsed (ms) 17276340]: Made d4 for group: 4\n",
      "[DEBUG][Time elapsed (ms) 17279327]: Made d4 for group: 20\n",
      "[DEBUG][Time elapsed (ms) 17319701]: Made d4 for group: 84\n",
      "[DEBUG][Time elapsed (ms) 17327402]: Made d4 for group: 19\n",
      "[DEBUG][Time elapsed (ms) 17330395]: Made d4 for group: 3\n",
      "[DEBUG][Time elapsed (ms) 17334846]: Made d4 for group: 18\n",
      "[DEBUG][Time elapsed (ms) 17340184]: Made d4 for group: 2\n",
      "[DEBUG][Time elapsed (ms) 17344591]: Made d4 for group: 17\n",
      "[DEBUG][Time elapsed (ms) 17348461]: Made d4 for group: 1\n"
     ]
    },
    {
     "name": "stdout",
     "output_type": "stream",
     "text": [
      "CPU times: user 6min 49s, sys: 3min 23s, total: 10min 13s\n",
      "Wall time: 3min 52s\n"
     ]
    }
   ],
   "source": [
    "%%time \n",
    "make_union_d4_from_df(all_df, \"score\", \"m.d4\")    "
   ]
  }
 ],
 "metadata": {
  "kernelspec": {
   "display_name": "Python 3 (ipykernel)",
   "language": "python",
   "name": "python3"
  },
  "language_info": {
   "codemirror_mode": {
    "name": "ipython",
    "version": 3
   },
   "file_extension": ".py",
   "mimetype": "text/x-python",
   "name": "python",
   "nbconvert_exporter": "python",
   "pygments_lexer": "ipython3",
   "version": "3.9.13"
  }
 },
 "nbformat": 4,
 "nbformat_minor": 5
}
