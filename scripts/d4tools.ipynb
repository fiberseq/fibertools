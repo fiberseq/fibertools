{
 "cells": [
  {
   "cell_type": "code",
   "execution_count": 1,
   "id": "5a92353a-dbef-428e-8dcb-ed9f542dbc75",
   "metadata": {},
   "outputs": [
    {
     "name": "stderr",
     "output_type": "stream",
     "text": [
      "/Users/mrvollger/miniconda3/envs/fibertools/lib/python3.9/site-packages/xgboost/compat.py:36: FutureWarning: pandas.Int64Index is deprecated and will be removed from pandas in a future version. Use pandas.Index with the appropriate dtype instead.\n",
      "  from pandas import MultiIndex, Int64Index\n"
     ]
    }
   ],
   "source": [
    "import pyd4 \n",
    "import fibertools as ft\n",
    "import polars as pl\n",
    "import pandas as pd\n",
    "import io\n",
    "import tempfile\n",
    "import numpy as np\n",
    "import subprocess\n",
    "from numba import njit\n",
    "import logging\n",
    "log_format = \"[%(levelname)s][Time elapsed (ms) %(relativeCreated)d]: %(message)s\"\n",
    "#log_level = logging.DEBUG if args.verbose else logging.WARNING\n",
    "log_level = logging.DEBUG\n",
    "logging.basicConfig(format=log_format, level=log_level)\n",
    "\n",
    "@njit\n",
    "def chrom_bg(sts, ens, chrom_len):\n",
    "    chrom = np.zeros(chrom_len, dtype=np.uint16)\n",
    "    to_add = np.uint64(1)\n",
    "    for st, en in zip(sts, ens):\n",
    "        chrom[st:en] += to_add\n",
    "    return chrom\n",
    "\n",
    "def df_to_bg(df, genome):\n",
    "    bg_data = {}\n",
    "    for g in df.groupby(\"ct\"):\n",
    "        chrom = g.ct[0]\n",
    "        bg_data[chrom] = chrom_bg(g.st.to_numpy(), g.en.to_numpy(), genome[chrom])\n",
    "    return bg_data\n",
    "\n",
    "def make_d4_from_df(df, genome, d4_f):\n",
    "    chroms = list(zip(genome.keys(), genome.values()))\n",
    "    writer = pyd4.D4Builder(d4_f) \\\n",
    "        .add_chroms(chroms) \\\n",
    "        .for_sparse_data() \\\n",
    "        .get_writer()\n",
    "    \n",
    "    for chrom, data in df_to_bg(df, genome).items():\n",
    "        writer.write_np_array(chrom, 0, data)\n",
    "    writer.close()\n",
    "\n",
    "    \n",
    "def make_temp_d4_from_df(df, genome):\n",
    "    temp = tempfile.NamedTemporaryFile(suffix='.d4')\n",
    "    make_d4_from_df(df, genome, temp.name)\n",
    "    return temp \n",
    "\n",
    "def make_union_d4_from_df(df, genome, group_col, d4_f):\n",
    "    out_files = []\n",
    "    for idx, g in enumerate(df.groupby([group_col])):\n",
    "        g_n = g[group_col][0]\n",
    "        out_files.append((g_n, make_temp_d4_from_df(g, genome)))\n",
    "        logging.debug(f\"Made d4 for group: {g_n}\")\n",
    "            \n",
    "    merged = pyd4.D4Merger(d4_f)\n",
    "    for tag, d4 in sorted(out_files):\n",
    "        merged.add_tagged_track(str(tag), d4.name)\n",
    "    merged.merge()\n",
    "    # close files\n",
    "    [d4.close() for _tag, d4 in out_files]\n"
   ]
  },
  {
   "cell_type": "code",
   "execution_count": 403,
   "id": "76f576a6-6336-4e79-be7d-2d144415ba1f",
   "metadata": {},
   "outputs": [
    {
     "name": "stdout",
     "output_type": "stream",
     "text": [
      "CPU times: user 2min 50s, sys: 1min 44s, total: 4min 34s\n",
      "Wall time: 2min 53s\n"
     ]
    }
   ],
   "source": [
    "%%time\n",
    "all_df = ft.read_in_bed_file(\"../data/acc.model.results.bed.gz\", n_rows=200_000_000)"
   ]
  },
  {
   "cell_type": "code",
   "execution_count": 408,
   "id": "71994dc3-38fd-4292-b782-ef6e8b3b36ac",
   "metadata": {},
   "outputs": [
    {
     "data": {
      "text/plain": [
       "((186972218, 11),\n",
       " (100, 11),\n",
       " shape: (6, 2)\n",
       " ┌───────┬──────────┐\n",
       " │ ct    ┆ counts   │\n",
       " │ ---   ┆ ---      │\n",
       " │ str   ┆ u32      │\n",
       " ╞═══════╪══════════╡\n",
       " │ chr1  ┆ 55902581 │\n",
       " ├╌╌╌╌╌╌╌┼╌╌╌╌╌╌╌╌╌╌┤\n",
       " │ chr10 ┆ 31733134 │\n",
       " ├╌╌╌╌╌╌╌┼╌╌╌╌╌╌╌╌╌╌┤\n",
       " │ chr11 ┆ 31537782 │\n",
       " ├╌╌╌╌╌╌╌┼╌╌╌╌╌╌╌╌╌╌┤\n",
       " │ chr12 ┆ 31251670 │\n",
       " ├╌╌╌╌╌╌╌┼╌╌╌╌╌╌╌╌╌╌┤\n",
       " │ chr13 ┆ 23188892 │\n",
       " ├╌╌╌╌╌╌╌┼╌╌╌╌╌╌╌╌╌╌┤\n",
       " │ chr14 ┆ 13358159 │\n",
       " └───────┴──────────┘)"
      ]
     },
     "execution_count": 408,
     "metadata": {},
     "output_type": "execute_result"
    }
   ],
   "source": [
    "all_df = all_df.with_column(\n",
    "    pl.when(pl.col(\"column_9\") == \"230,230,230\").then(101).otherwise(pl.col(\"column_5\")).alias(\"score\")\n",
    ")\n",
    "df = all_df.head(100).clone()\n",
    "all_df.shape, df.shape, all_df.ct.value_counts()"
   ]
  },
  {
   "cell_type": "code",
   "execution_count": 409,
   "id": "101f0f65-c5b2-4f77-a9b9-a7cbc94bde7d",
   "metadata": {},
   "outputs": [],
   "source": [
    "genome_file = \"../data/hg38.chrom.sizes\"\n",
    "genome = { line.split()[0]:int(line.split()[1])  for line in open(genome_file) }"
   ]
  },
  {
   "cell_type": "code",
   "execution_count": 410,
   "id": "cfd4268b-734b-424b-8619-a065e1421933",
   "metadata": {},
   "outputs": [
    {
     "name": "stdout",
     "output_type": "stream",
     "text": [
      "CPU times: user 5.3 s, sys: 868 ms, total: 6.16 s\n",
      "Wall time: 2.08 s\n"
     ]
    }
   ],
   "source": [
    "%%time\n",
    "make_d4_from_df(df, genome, \"tmp.d4\")\n",
    "#make_temp_d4_from_df(df, genome)"
   ]
  },
  {
   "cell_type": "code",
   "execution_count": 411,
   "id": "bc7b59a4-64cd-49f6-99b1-6c846c8ff9d7",
   "metadata": {},
   "outputs": [
    {
     "name": "stderr",
     "output_type": "stream",
     "text": [
      "[DEBUG][Time elapsed (ms) 17124614]: Made d4 for group: 16\n",
      "[DEBUG][Time elapsed (ms) 17127271]: Made d4 for group: 0\n",
      "[DEBUG][Time elapsed (ms) 17130347]: Made d4 for group: 15\n",
      "[DEBUG][Time elapsed (ms) 17136021]: Made d4 for group: 14\n",
      "[DEBUG][Time elapsed (ms) 17140163]: Made d4 for group: 13\n",
      "[DEBUG][Time elapsed (ms) 17143751]: Made d4 for group: 12\n",
      "[DEBUG][Time elapsed (ms) 17147763]: Made d4 for group: 11\n",
      "[DEBUG][Time elapsed (ms) 17151244]: Made d4 for group: 10\n",
      "[DEBUG][Time elapsed (ms) 17155961]: Made d4 for group: 9\n",
      "[DEBUG][Time elapsed (ms) 17160991]: Made d4 for group: 25\n",
      "[DEBUG][Time elapsed (ms) 17168124]: Made d4 for group: 24\n",
      "[DEBUG][Time elapsed (ms) 17173609]: Made d4 for group: 8\n",
      "[DEBUG][Time elapsed (ms) 17179656]: Made d4 for group: 23\n",
      "[DEBUG][Time elapsed (ms) 17183682]: Made d4 for group: 7\n",
      "[DEBUG][Time elapsed (ms) 17187716]: Made d4 for group: 6\n",
      "[DEBUG][Time elapsed (ms) 17192418]: Made d4 for group: 22\n",
      "[DEBUG][Time elapsed (ms) 17264207]: Made d4 for group: 101\n",
      "[DEBUG][Time elapsed (ms) 17271074]: Made d4 for group: 21\n",
      "[DEBUG][Time elapsed (ms) 17273568]: Made d4 for group: 5\n",
      "[DEBUG][Time elapsed (ms) 17276340]: Made d4 for group: 4\n",
      "[DEBUG][Time elapsed (ms) 17279327]: Made d4 for group: 20\n",
      "[DEBUG][Time elapsed (ms) 17319701]: Made d4 for group: 84\n",
      "[DEBUG][Time elapsed (ms) 17327402]: Made d4 for group: 19\n",
      "[DEBUG][Time elapsed (ms) 17330395]: Made d4 for group: 3\n",
      "[DEBUG][Time elapsed (ms) 17334846]: Made d4 for group: 18\n",
      "[DEBUG][Time elapsed (ms) 17340184]: Made d4 for group: 2\n",
      "[DEBUG][Time elapsed (ms) 17344591]: Made d4 for group: 17\n",
      "[DEBUG][Time elapsed (ms) 17348461]: Made d4 for group: 1\n"
     ]
    },
    {
     "name": "stdout",
     "output_type": "stream",
     "text": [
      "CPU times: user 6min 49s, sys: 3min 23s, total: 10min 13s\n",
      "Wall time: 3min 52s\n"
     ]
    }
   ],
   "source": [
    "%%time \n",
    "make_union_d4_from_df(all_df, \"score\", \"m.d4\")    "
   ]
  },
  {
   "cell_type": "code",
   "execution_count": 7,
   "id": "5006c2d8",
   "metadata": {},
   "outputs": [
    {
     "name": "stdout",
     "output_type": "stream",
     "text": [
      "Tracks living in tihs file ['q_0', 'q_1', 'q_2', 'q_3', 'q_4', 'q_5', 'q_6', 'q_7', 'q_8', 'q_9', 'q_10', 'q_11', 'q_12', 'q_13', 'q_14', 'q_15', 'q_16', 'q_17', 'q_18', 'q_19', 'q_20', 'q_21', 'q_22', 'q_23', 'q_24', 'q_25', 'q_26', 'q_27', 'q_28', 'q_29', 'q_100', 'q_101']\n"
     ]
    },
    {
     "data": {
      "text/plain": [
       "['q_0',\n",
       " 'q_1',\n",
       " 'q_2',\n",
       " 'q_3',\n",
       " 'q_4',\n",
       " 'q_5',\n",
       " 'q_6',\n",
       " 'q_7',\n",
       " 'q_8',\n",
       " 'q_9',\n",
       " 'q_10',\n",
       " 'q_11',\n",
       " 'q_12',\n",
       " 'q_13',\n",
       " 'q_14',\n",
       " 'q_15',\n",
       " 'q_16',\n",
       " 'q_17',\n",
       " 'q_18',\n",
       " 'q_19',\n",
       " 'q_20',\n",
       " 'q_21',\n",
       " 'q_22',\n",
       " 'q_23',\n",
       " 'q_24',\n",
       " 'q_25',\n",
       " 'q_26',\n",
       " 'q_27',\n",
       " 'q_28',\n",
       " 'q_29',\n",
       " 'q_100',\n",
       " 'q_101']"
      ]
     },
     "execution_count": 7,
     "metadata": {},
     "output_type": "execute_result"
    }
   ],
   "source": [
    "file = pyd4.D4File(\"../tmp.d4\")\n",
    "print(\"Tracks living in tihs file\", file.list_tracks())\n",
    "matrix = file.open_all_tracks()\n"
   ]
  },
  {
   "cell_type": "code",
   "execution_count": 61,
   "id": "da3d97a7-ef09-4f93-b865-aa409223079b",
   "metadata": {
    "tags": []
   },
   "outputs": [],
   "source": [
    "track_names = matrix.track_names\n",
    "q_values = np.array([ max(int(x.strip(\"q_\"))/100, 0.001) for x in track_names ])\n",
    "log_q_values = - 10 * np.log10(q_values[:-2])\n",
    "# To enumerate the matix \n",
    "rtn = []\n",
    "for values in matrix.enumerate_values(\"chr11\",4604376,4641595):\n",
    "    vals = np.array(values[2])\n",
    "    linker_count = values[2][-2]\n",
    "    nuc_count = values[2][-1]\n",
    "    acc_count = vals[:-2].sum()\n",
    "    log_q_value = (log_q_values * vals[:-2]).sum() \n",
    "    rtn.append((linker_count,nuc_count, acc_count, log_q_value))\n",
    "mat = np.array(rtn)"
   ]
  },
  {
   "cell_type": "code",
   "execution_count": 62,
   "id": "80b52b7d-7f2c-4f03-801f-1fe3dd6cc06c",
   "metadata": {},
   "outputs": [
    {
     "data": {
      "text/plain": [
       "<AxesSubplot:>"
      ]
     },
     "execution_count": 62,
     "metadata": {},
     "output_type": "execute_result"
    },
    {
     "data": {
      "image/png": "[encoded data removed]",
      "text/plain": [
       "<Figure size 432x288 with 1 Axes>"
      ]
     },
     "metadata": {
      "needs_background": "light"
     },
     "output_type": "display_data"
    }
   ],
   "source": [
    "import seaborn as sns\n",
    "sns.lineplot(x=np.arange(mat.shape[0]), y=mat[:,3], size=0.01)"
   ]
  },
  {
   "cell_type": "code",
   "execution_count": 63,
   "id": "3c55f004-960b-4ef6-82a3-bb2571e2aaf4",
   "metadata": {},
   "outputs": [],
   "source": [
    "m = pyd4.D4Merger(\"../peaks.d4\")\n",
    "for idx in range(4):\n",
    "    w = (pyd4.D4Builder(f\"{idx}.d4\")\n",
    "        .add_chroms([(\"chr11\",5_000_000)])\n",
    "        # .for_sparse_data()\n",
    "        .generate_index()\n",
    "        .get_writer())\n",
    "    w.write_np_array(\"chr11\", 4604376, mat[:,idx])\n",
    "    w.close()\n",
    "    m.add_tagged_track(f\"{idx}\", f\"{idx}.d4\")\n",
    "    \n",
    "m.merge()\n",
    "\n"
   ]
  },
  {
   "cell_type": "code",
   "execution_count": 108,
   "id": "4063a067-c5a8-4033-beaa-50f7f013c4b8",
   "metadata": {},
   "outputs": [],
   "source": [
    "file = pyd4.D4File(\"../tmp.d4\")\n",
    "#file[\"chr11\"]\n",
    "z = matrix[\"chr11\"]"
   ]
  },
  {
   "cell_type": "code",
   "execution_count": 84,
   "id": "58449d64-503d-491f-8be1-815347728b44",
   "metadata": {},
   "outputs": [],
   "source": [
    "y = z[:,:10].T"
   ]
  },
  {
   "cell_type": "code",
   "execution_count": 103,
   "id": "1537706b-c2ec-42cf-8ae5-48837baae305",
   "metadata": {},
   "outputs": [
    {
     "data": {
      "text/plain": [
       "(array([0, 0, 0, 0, 0, 0, 0, 0, 0, 0], dtype=int32),\n",
       " array([0, 0, 0, 0, 0, 0, 0, 0, 0, 0], dtype=int32),\n",
       " array([0, 0, 0, 0, 0, 0, 0, 0, 0, 0]),\n",
       " array([0., 0., 0., 0., 0., 0., 0., 0., 0., 0.]))"
      ]
     },
     "execution_count": 103,
     "metadata": {},
     "output_type": "execute_result"
    }
   ],
   "source": [
    "y.shape\n",
    "nuc_cov = y[:,-1]\n",
    "link_cov = y[:,-2]\n",
    "acc_cov = y[:, :-2].sum(axis=1)\n",
    "log_q_vals = (y[:,:-2]*log_q_values).sum(axis=1)\n",
    "\n",
    "nuc_cov, link_cov, acc_cov, log_q_vals"
   ]
  },
  {
   "cell_type": "code",
   "execution_count": 107,
   "id": "267beb9b-7b1d-40c4-9b91-3ef014099408",
   "metadata": {},
   "outputs": [
    {
     "data": {
      "text/plain": [
       "(32, 1000)"
      ]
     },
     "execution_count": 107,
     "metadata": {},
     "output_type": "execute_result"
    }
   ],
   "source": [
    "z = matrix[\"chr11\", 0, 1000]\n",
    "z.shape"
   ]
  },
  {
   "cell_type": "code",
   "execution_count": 111,
   "id": "d76d4fd2-1159-4224-a51e-323499496e78",
   "metadata": {},
   "outputs": [
    {
     "ename": "AttributeError",
     "evalue": "'D4Matrix' object has no attribute 'mean'",
     "output_type": "error",
     "traceback": [
      "\u001b[0;31m---------------------------------------------------------------------------\u001b[0m",
      "\u001b[0;31mAttributeError\u001b[0m                            Traceback (most recent call last)",
      "Input \u001b[0;32mIn [111]\u001b[0m, in \u001b[0;36m<cell line: 1>\u001b[0;34m()\u001b[0m\n\u001b[0;32m----> 1\u001b[0m \u001b[43mmatrix\u001b[49m\u001b[38;5;241;43m.\u001b[39;49m\u001b[43mmean\u001b[49m(\u001b[38;5;124m\"\u001b[39m\u001b[38;5;124mchr11\u001b[39m\u001b[38;5;124m\"\u001b[39m)\n",
      "\u001b[0;31mAttributeError\u001b[0m: 'D4Matrix' object has no attribute 'mean'"
     ]
    }
   ],
   "source": [
    "matrix."
   ]
  }
 ],
 "metadata": {
  "kernelspec": {
   "display_name": "Python 3 (ipykernel)",
   "language": "python",
   "name": "python3"
  },
  "language_info": {
   "codemirror_mode": {
    "name": "ipython",
    "version": 3
   },
   "file_extension": ".py",
   "mimetype": "text/x-python",
   "name": "python",
   "nbconvert_exporter": "python",
   "pygments_lexer": "ipython3",
   "version": "3.9.13"
  }
 },
 "nbformat": 4,
 "nbformat_minor": 5
}
